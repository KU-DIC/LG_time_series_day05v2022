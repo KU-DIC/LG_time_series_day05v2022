{
 "cells": [
  {
   "cell_type": "code",
   "execution_count": null,
   "id": "bcaa3703-82ce-41a0-9e69-ccd8aa0d71db",
   "metadata": {},
   "outputs": [],
   "source": [
    "from IPython.display import display, HTML, Image"
   ]
  },
  {
   "cell_type": "code",
   "execution_count": null,
   "id": "16482c57-7445-49be-ae56-5dc89593e094",
   "metadata": {},
   "outputs": [],
   "source": [
    "!git clone https://github.com/KU-DIC/LG_time_series_day05.git #코랩 사용"
   ]
  },
  {
   "cell_type": "markdown",
   "id": "9fe4b0b9",
   "metadata": {},
   "source": [
    "# [머신러닝 기반 시계열 분석 2 실습]\n",
    "# ANN\n",
    "## [Deep Neural Networks - Classification(다중 분류)]"
   ]
  },
  {
   "cell_type": "markdown",
   "id": "926ff72d",
   "metadata": {},
   "source": [
    "##### jupyter notebook 단축키\n",
    "\n",
    "- ctrl+enter: 셀 실행   \n",
    "- shift+enter: 셀 실행 및 다음 셀 이동   \n",
    "- alt+enter: 셀 실행, 다음 셀 이동, 새로운 셀 생성\n",
    "- a: 상단에 새로운 셀 만들기\n",
    "- b: 하단에 새로운 셀 만들기\n",
    "- dd: 셀 삭제(x: 셀 삭제)\n",
    "- 함수 ( ) 안에서 shift+tab: arguments description. shift+tab+tab은 길게 볼 수 있도록"
   ]
  },
  {
   "cell_type": "markdown",
   "id": "07609e4e",
   "metadata": {},
   "source": [
    "## 1. 모듈 불러오기"
   ]
  },
  {
   "cell_type": "code",
   "execution_count": null,
   "id": "8b161e20",
   "metadata": {},
   "outputs": [],
   "source": [
    "''' 기본 모듈 및 시각화 모듈 '''\n",
    "import numpy as np\n",
    "import pandas as pd\n",
    "pd.set_option('display.max_columns', None)\n",
    "import seaborn as sns\n",
    "import matplotlib.pyplot as plt\n",
    "\n",
    "''' 데이터 전처리 모듈 '''\n",
    "from sklearn.preprocessing import StandardScaler\n",
    "from sklearn.model_selection import train_test_split\n",
    "\n",
    "'''Neural Network을 위한 딥러닝 모듈'''\n",
    "import torch\n",
    "import copy\n",
    "device = 'cuda:0' if torch.cuda.is_available() else 'cpu'\n",
    "\n",
    "''' 결과 평가용 모듈 '''\n",
    "from sklearn.metrics import accuracy_score, confusion_matrix\n",
    "    \n",
    "''' 기타 optional'''\n",
    "import warnings, itertools\n",
    "warnings.filterwarnings(action='ignore')"
   ]
  },
  {
   "cell_type": "markdown",
   "id": "ddf151f4",
   "metadata": {},
   "source": [
    "## 2. 분석데이터 : MNIST Handwritten Digits\n",
    "   \n",
    "<a href='http://yann.lecun.com/exdb/mnist/'> The MNIST Database Hompage </a>"
   ]
  },
  {
   "cell_type": "code",
   "execution_count": null,
   "id": "bdf5af5e-829e-4763-8122-61da6fcff7a9",
   "metadata": {},
   "outputs": [],
   "source": [
    "Image('/content/LG_time_series_day05/image/intro10.png')"
   ]
  },
  {
   "cell_type": "markdown",
   "id": "830c3ff2",
   "metadata": {},
   "source": [
    "<center> <a href='http://colah.github.io/posts/2014-10-Visualizing-MNIST/'> http://colah.github.io/posts/2014-10-Visualizing-MNIST/ </a></center><br>"
   ]
  },
  {
   "cell_type": "markdown",
   "id": "799d3f45",
   "metadata": {},
   "source": [
    "- 이미지 데이터는 픽셀로 이루어져 있으며, 각 픽셀의 밝기(intensity)를 통해 이미지를 나타낼 수 있다.\n",
    "- MNIST 데이터는 이런 픽셀 값들을 설명변수(X)로 하여 어떤 숫자(Y)에 해당하는 이미지인지 분류하는 문제\n",
    "- MNIST 데이터의 이미지는 가로 28 픽셀, 세로 28 픽셀로 이루어져 있으므로 28 x 28 = 784개의 설명변수로 10개의 클래스를 예측하는 다범주 분류문제"
   ]
  },
  {
   "cell_type": "markdown",
   "id": "2549a1ea",
   "metadata": {},
   "source": [
    "### 데이터 불러오기"
   ]
  },
  {
   "cell_type": "code",
   "execution_count": null,
   "id": "e6aadb4c",
   "metadata": {},
   "outputs": [],
   "source": [
    "data = pd.read_csv('/content/LG_time_series_day05/data/MNIST_Example.csv')\n",
    "# data = pd.read_csv('./data/MNIST_Example.csv') #로컬"
   ]
  },
  {
   "cell_type": "markdown",
   "id": "302eda22",
   "metadata": {},
   "source": [
    "## 2.1 데이터 전처리 및 탐색적 데이터 분석"
   ]
  },
  {
   "cell_type": "markdown",
   "id": "bb01dfcf",
   "metadata": {},
   "source": [
    "### 데이터 확인"
   ]
  },
  {
   "cell_type": "code",
   "execution_count": null,
   "id": "277a09b0",
   "metadata": {},
   "outputs": [],
   "source": [
    "print('Data shape: {}'.format(data.shape))\n",
    "data.head()"
   ]
  },
  {
   "cell_type": "markdown",
   "id": "f6d084fe",
   "metadata": {},
   "source": [
    "### 클래스 비율 확인"
   ]
  },
  {
   "cell_type": "code",
   "execution_count": null,
   "id": "273b4514",
   "metadata": {},
   "outputs": [],
   "source": [
    "data.groupby('Y')['Y'].count()"
   ]
  },
  {
   "cell_type": "markdown",
   "id": "2af26722",
   "metadata": {},
   "source": [
    "### 설명변수(X)와 반응변수 (Y) 정의"
   ]
  },
  {
   "cell_type": "code",
   "execution_count": null,
   "id": "b5ac0ee2",
   "metadata": {},
   "outputs": [],
   "source": [
    "x = data.drop(labels='Y', axis=1)\n",
    "y = data['Y']"
   ]
  },
  {
   "cell_type": "code",
   "execution_count": null,
   "id": "b21c68f2",
   "metadata": {},
   "outputs": [],
   "source": [
    "display(x.head())\n",
    "display(y.head())"
   ]
  },
  {
   "cell_type": "markdown",
   "id": "6550a427",
   "metadata": {},
   "source": [
    "### 학습데이터 (Training Data), 검증 데이터 (Validation Data) 및 테스트 데이터 (Testing Data) 나누기\n",
    "- 학습데이터와 검증데이터, 테스트데이터의 클래스 비율이 달라지지 않도록 stratify 옵션 사용"
   ]
  },
  {
   "cell_type": "code",
   "execution_count": null,
   "id": "ede900f2",
   "metadata": {},
   "outputs": [],
   "source": [
    "train_x, test_x, train_y, test_y = train_test_split(x, y, stratify=y, test_size=0.2)"
   ]
  },
  {
   "cell_type": "code",
   "execution_count": null,
   "id": "d8151420",
   "metadata": {},
   "outputs": [],
   "source": [
    "train_x, valid_x, train_y, valid_y = train_test_split(train_x, train_y, stratify=train_y, test_size=0.2)"
   ]
  },
  {
   "cell_type": "code",
   "execution_count": null,
   "id": "c2c315e6",
   "metadata": {},
   "outputs": [],
   "source": [
    "print(f\"학습 데이터셋 크기 : {train_x.shape}, 검증 데이터셋 크기 : {valid_x.shape}, 테스트 데이터셋 크기 : {test_x.shape}\")"
   ]
  },
  {
   "cell_type": "markdown",
   "id": "f70b6aa6",
   "metadata": {},
   "source": [
    "### Matplotlib 을 이용한 클래스 비율 plotting"
   ]
  },
  {
   "cell_type": "code",
   "execution_count": null,
   "id": "da80c3e7",
   "metadata": {},
   "outputs": [],
   "source": [
    "plt.figure(figsize=(18, 6))\n",
    "\n",
    "plt.subplot(131)\n",
    "plt.hist(train_y, bins=np.arange(0, 10, 0.5))\n",
    "plt.ylim(0, 70)\n",
    "plt.xticks(np.arange(0 , 11, 1))\n",
    "plt.title('Training Data')\n",
    "\n",
    "plt.subplot(132)\n",
    "plt.hist(valid_y, bins=np.arange(0, 10, 0.5))\n",
    "plt.ylim(0, 70)\n",
    "plt.xticks(np.arange(0 , 11, 1))\n",
    "plt.title('Validation Data')\n",
    "\n",
    "plt.subplot(133)\n",
    "plt.hist(test_y, bins=np.arange(0, 10, 0.5))\n",
    "plt.ylim(0, 70)\n",
    "plt.xticks(np.arange(0 , 11, 1))\n",
    "plt.title('Testing Data')\n",
    "plt.show()"
   ]
  },
  {
   "cell_type": "markdown",
   "id": "36038eec",
   "metadata": {},
   "source": [
    "## 2-2. 모델링: Deep Neural Networks (DNN) Classifier"
   ]
  },
  {
   "cell_type": "markdown",
   "id": "1ed897f1",
   "metadata": {},
   "source": [
    "### Deep Neural Networks (DNN) Classifier에 적합한 입력값 형태로 변환\n",
    "- Tensor : 데이터를 담는 다차원 행렬  \n",
    "- Float Tensor : 다차원 행렬(Tensor) 내의 값이 실수값인 경우  \n",
    "- Long Tensor : 다차원 행렬(Tensor) 내의 값이 정수값인 경우\n",
    "- Tensor Dataset : 다차원 행렬(Tensor) 여러 개를 결합하여 하나의 데이터 셋으로 만드는 과정  \n",
    "- Data Loader : 결합된 데이터 셋(Tensor Dataset)을 사용자가 지정하는 특정 크기인 배치 사이즈 (batch size)에 맞추어 출력하도록 설정"
   ]
  },
  {
   "cell_type": "code",
   "execution_count": null,
   "id": "12a64071",
   "metadata": {},
   "outputs": [],
   "source": [
    "train_x_torch = torch.FloatTensor(train_x.values) # torch.FloatTensor(numpy)\n",
    "train_y_torch = torch.LongTensor(train_y.values) # torch.LongTensor(numpy)\n",
    "trainDataset = torch.utils.data.TensorDataset(train_x_torch, train_y_torch)\n",
    "trainLoader = torch.utils.data.DataLoader(dataset = trainDataset,\n",
    "                                         batch_size = 100,\n",
    "                                         shuffle = True)\n",
    "\n",
    "valid_x_torch = torch.FloatTensor(valid_x.values) # torch.FloatTensor(numpy)\n",
    "valid_y_torch = torch.LongTensor(valid_y.values) # torch.LongTensor(numpy)\n",
    "validDataset = torch.utils.data.TensorDataset(valid_x_torch, valid_y_torch)\n",
    "validLoader = torch.utils.data.DataLoader(dataset = validDataset,\n",
    "                                        batch_size = 100,\n",
    "                                        shuffle = False)\n",
    "\n",
    "test_x_torch = torch.FloatTensor(test_x.values) # torch.FloatTensor(numpy)\n",
    "test_y_torch = torch.LongTensor(test_y.values) # torch.LongTensor(numpy)\n",
    "testDataset = torch.utils.data.TensorDataset(test_x_torch, test_y_torch)\n",
    "testLoader = torch.utils.data.DataLoader(dataset = testDataset,\n",
    "                                        batch_size = 100,\n",
    "                                        shuffle = False)"
   ]
  },
  {
   "cell_type": "markdown",
   "id": "a08bcd8c",
   "metadata": {},
   "source": [
    "### DNN Classifier 구조"
   ]
  },
  {
   "cell_type": "code",
   "execution_count": null,
   "id": "64597429-c12b-4222-abe0-8dafcfcd5eeb",
   "metadata": {},
   "outputs": [],
   "source": [
    "Image('/content/LG_time_series_day05/image/intro11.png')"
   ]
  },
  {
   "cell_type": "code",
   "execution_count": null,
   "id": "40946102",
   "metadata": {},
   "outputs": [],
   "source": [
    "class DNNClassifier(torch.nn.Module):\n",
    "    def __init__(self, input_dim, hidden_dim1, hidden_dim2, hidden_dim3, output_dim): \n",
    "        # input_dim = 784, output_dim = 10 (클래스 개수)\n",
    "        super().__init__()\n",
    "        \n",
    "        ''' 모델 구조 만들기'''\n",
    "        \n",
    "        self.linear1 = torch.nn.Linear(input_dim, hidden_dim1) # input_dim(784) -> hidden_dim1(500)\n",
    "        self.linear2 = torch.nn.Linear(hidden_dim1, hidden_dim2) # hidden_dim1(500) -> hidden_dim2(300)\n",
    "        self.linear3 = torch.nn.Linear(hidden_dim2, hidden_dim3) # hidden_dim2(300) -> hidden_dim3(100)\n",
    "        self.linear4 = torch.nn.Linear(hidden_dim3, output_dim) # hidden_dim3(100) -> output_dim(10)\n",
    "        \n",
    "        self.relu = torch.nn.ReLU() # Relu activation function\n",
    "        self.dropout = torch.nn.Dropout(p=0.5)\n",
    "        \n",
    "    def forward(self, x):\n",
    "        \n",
    "        ''' 짜여진 모델에 설명 변수 데이터 x를 입력할 때 진행할 순서 설정'''\n",
    "\n",
    "        x = self.linear1(x) \n",
    "        x = self.relu(x) \n",
    "        x = self.linear2(x)\n",
    "        x = self.relu(x)\n",
    "        x = self.dropout(x)\n",
    "        x = self.linear3(x)\n",
    "        x = self.relu(x)\n",
    "        output = self.linear4(x) \n",
    "        \n",
    "        return output"
   ]
  },
  {
   "cell_type": "markdown",
   "id": "73f17775",
   "metadata": {},
   "source": [
    "### 모델 및 비용함수, Solver 설정"
   ]
  },
  {
   "cell_type": "code",
   "execution_count": null,
   "id": "45bd8b94",
   "metadata": {},
   "outputs": [],
   "source": [
    "train_x.shape[1]"
   ]
  },
  {
   "cell_type": "code",
   "execution_count": null,
   "id": "adebf193",
   "metadata": {},
   "outputs": [],
   "source": [
    "clf_DNN = DNNClassifier(train_x.shape[1], 500, 300, 100, 10) # 10=class 개수"
   ]
  },
  {
   "cell_type": "code",
   "execution_count": null,
   "id": "bdb26585",
   "metadata": {},
   "outputs": [],
   "source": [
    "# 비용함수 정의\n",
    "criterion = torch.nn.CrossEntropyLoss()\n",
    "# 경사하강법의 종류 정의 (adam)\n",
    "solver = torch.optim.Adam(clf_DNN.parameters(), lr = 0.001)"
   ]
  },
  {
   "cell_type": "markdown",
   "id": "e1e2aad2",
   "metadata": {},
   "source": [
    "### DNN Classifier 학습"
   ]
  },
  {
   "cell_type": "code",
   "execution_count": null,
   "id": "e89a9668",
   "metadata": {
    "scrolled": true
   },
   "outputs": [],
   "source": [
    "num_epochs = 100\n",
    "\n",
    "print(\"Start Training !\")\n",
    "print('-'*50)\n",
    "\n",
    "train_loss_total = []\n",
    "valid_loss_total = []\n",
    "best_loss = np.inf\n",
    "\n",
    "for epoch in range(num_epochs):\n",
    "    \n",
    "    train_loss = 0\n",
    "    valid_loss = 0\n",
    "    \n",
    "    ''' Training '''\n",
    "    clf_DNN.train()\n",
    "    for x_data, y_data in trainLoader:\n",
    "        \n",
    "        # 정확한 학습을 위하여 모든 기울기 값을 0으로 설정\n",
    "        solver.zero_grad()\n",
    "        \n",
    "        y_pred = clf_DNN(x_data)\n",
    "        \n",
    "        # 비용함수를 활용하여 오차 계산\n",
    "        loss = criterion(y_pred, y_data)\n",
    "        \n",
    "        # 계산된 오차를 기반으로, 오차를 줄일 수 있는 방향으로 w값 업데이트\n",
    "        loss.backward()\n",
    "        solver.step() # forward evaluation, backward propagation, update를 모두 포함하는 step\n",
    "\n",
    "        train_loss += loss.item()\n",
    "    \n",
    "    ''' Validation '''\n",
    "    clf_DNN.eval()\n",
    "    for eval_x_data, eval_y_data in validLoader:\n",
    "        eval_y_pred = clf_DNN(eval_x_data)\n",
    "        valid_loss += criterion(eval_y_pred, eval_y_data).item() # 딕셔너리에 있는 키와 값들의 쌍을 얻어 저장\n",
    "        \n",
    "    print('[%d epoch] Train loss : %.3f, Valid loss : %.3f' % (epoch+1, train_loss/len(trainLoader), valid_loss/len(validLoader)))\n",
    "    \n",
    "    if valid_loss/len(validLoader) < best_loss:\n",
    "        # 로스값 업데이트\n",
    "        best_loss = valid_loss/len(validLoader)\n",
    "        # 최적의 epoch 수와 모델 저장하기\n",
    "        best_epoch = epoch\n",
    "        best_model = clf_DNN.state_dict()\n",
    "    \n",
    "    train_loss_total.append(train_loss/len(trainLoader))\n",
    "    valid_loss_total.append(valid_loss/len(validLoader))\n",
    "    \n",
    "print('-'*50)\n",
    "print(\"Finished Training ! Best Epoch is epoch %d.\" % (best_epoch+1))"
   ]
  },
  {
   "cell_type": "markdown",
   "id": "e7c9c1ba",
   "metadata": {},
   "source": [
    "### 학습 상태 확인 (learning curve)"
   ]
  },
  {
   "cell_type": "code",
   "execution_count": null,
   "id": "a8f99646",
   "metadata": {},
   "outputs": [],
   "source": [
    "plt.figure(figsize=(20,10))\n",
    "\n",
    "# 학습 및 검증 로스 변동 관찰하기\n",
    "plt.plot(train_loss_total,label='Train Loss')\n",
    "plt.plot(valid_loss_total, label='Validation Loss')\n",
    "# 최적의 모델이 저장된 곳 표시\n",
    "plt.axvline(x = best_epoch, color='red', label='Best Epoch')\n",
    "plt.legend(fontsize=20)\n",
    "plt.title(\"Learning Curve of trained DNN Classifier\", fontsize=18)\n",
    "plt.show()"
   ]
  },
  {
   "cell_type": "markdown",
   "id": "6739b6e5",
   "metadata": {},
   "source": [
    "## 2-3. Deep Neural Networks 모델 성능 평가"
   ]
  },
  {
   "cell_type": "code",
   "execution_count": null,
   "id": "998f0aa4",
   "metadata": {},
   "outputs": [],
   "source": [
    "# 최적의 모델 불러오기\n",
    "best_clf_DNN = DNNClassifier(train_x.shape[1], 500, 300, 100, 10)\n",
    "best_clf_DNN.load_state_dict(best_model)"
   ]
  },
  {
   "cell_type": "code",
   "execution_count": null,
   "id": "b940dafa",
   "metadata": {},
   "outputs": [],
   "source": [
    "# model을 evaluation 모드로 변경\n",
    "best_clf_DNN.eval()"
   ]
  },
  {
   "cell_type": "markdown",
   "id": "e6cf81ff",
   "metadata": {},
   "source": [
    "### 학습된 DNN Classifier 결과 확인 및 성능 평가: Training Data"
   ]
  },
  {
   "cell_type": "code",
   "execution_count": null,
   "id": "5a4f8800",
   "metadata": {},
   "outputs": [],
   "source": [
    "# clf_mlp(data) == data -> logit -> probability=softmax(logit)\n",
    "y_train_prob = best_clf_DNN(train_x_torch).softmax(dim=1)\n",
    "\n",
    "# 가장 큰 확률값에 해당하는 범주를 예측 범주로 저장\n",
    "y_train_pred = y_train_prob.max(1)[1].numpy()"
   ]
  },
  {
   "cell_type": "code",
   "execution_count": null,
   "id": "654f37c1",
   "metadata": {},
   "outputs": [],
   "source": [
    "y_train_prob[0].detach().numpy().tolist()"
   ]
  },
  {
   "cell_type": "code",
   "execution_count": null,
   "id": "fe2c6751",
   "metadata": {},
   "outputs": [],
   "source": [
    "y_train_pred[0]"
   ]
  },
  {
   "cell_type": "code",
   "execution_count": null,
   "id": "2dac7fe0",
   "metadata": {},
   "outputs": [],
   "source": [
    "train_y.head(1)"
   ]
  },
  {
   "cell_type": "code",
   "execution_count": null,
   "id": "43eca6f8",
   "metadata": {},
   "outputs": [],
   "source": [
    "train_accuracy = accuracy_score(y_pred=y_train_pred,y_true=train_y)\n",
    "\n",
    "print(f\"훈련 데이터셋 정확도: {train_accuracy:.3f}\")"
   ]
  },
  {
   "cell_type": "code",
   "execution_count": null,
   "id": "8ce6d75f",
   "metadata": {},
   "outputs": [],
   "source": [
    "cm_train = confusion_matrix(y_true=train_y, y_pred=y_train_pred)\n",
    "plt.figure(figsize=(8, 8))\n",
    "sns.heatmap(data=cm_train, annot=True, fmt='d', annot_kws={'size': 18}, cmap='Blues')\n",
    "plt.xlabel('Predicted')\n",
    "plt.ylabel('True')\n",
    "plt.show()"
   ]
  },
  {
   "cell_type": "markdown",
   "id": "9e79d6de",
   "metadata": {},
   "source": [
    "### 학습된 DNN Classifier 결과 확인 및 성능 평가: Validation Data"
   ]
  },
  {
   "cell_type": "code",
   "execution_count": null,
   "id": "98d91f39",
   "metadata": {},
   "outputs": [],
   "source": [
    "y_valid_prob = best_clf_DNN(valid_x_torch).softmax(dim=1)\n",
    "y_valid_pred = y_valid_prob.max(1)[1].numpy()\n",
    "valid_accuracy = accuracy_score(y_pred=y_valid_pred,y_true=valid_y)\n",
    "\n",
    "print(f\"검증용 데이터셋 정확도: {valid_accuracy:.3f}\")"
   ]
  },
  {
   "cell_type": "code",
   "execution_count": null,
   "id": "864ac088",
   "metadata": {},
   "outputs": [],
   "source": [
    "cm_valid = confusion_matrix(y_true=valid_y, y_pred=y_valid_pred)\n",
    "plt.figure(figsize=(8, 8))\n",
    "sns.heatmap(data=cm_valid, annot=True, fmt='d', annot_kws={'size': 18}, cmap='Blues')\n",
    "plt.xlabel('Predicted')\n",
    "plt.ylabel('True')\n",
    "plt.show()"
   ]
  },
  {
   "cell_type": "markdown",
   "id": "b6703abf",
   "metadata": {},
   "source": [
    "### 학습된 DNN Classifier 결과 확인 및 성능 평가: Testing Data"
   ]
  },
  {
   "cell_type": "code",
   "execution_count": null,
   "id": "3f582e52",
   "metadata": {},
   "outputs": [],
   "source": [
    "y_test_prob = best_clf_DNN(test_x_torch).softmax(dim=1)\n",
    "y_test_pred = y_test_prob.max(1)[1].numpy()\n",
    "test_accuracy = accuracy_score(y_pred=y_test_pred,y_true=test_y)\n",
    "\n",
    "print(f\"테스트용 데이터셋 정확도: {test_accuracy:.3f}\")"
   ]
  },
  {
   "cell_type": "code",
   "execution_count": null,
   "id": "761915b3",
   "metadata": {},
   "outputs": [],
   "source": [
    "cm_test = confusion_matrix(y_true=test_y, y_pred=y_test_pred)\n",
    "plt.figure(figsize=(8, 8))\n",
    "sns.heatmap(data=cm_test, annot=True, fmt='d', annot_kws={'size': 18}, cmap='Blues')\n",
    "plt.xlabel('Predicted')\n",
    "plt.ylabel('True')\n",
    "plt.show()"
   ]
  },
  {
   "cell_type": "markdown",
   "id": "5134a2a3",
   "metadata": {},
   "source": [
    "## 2-4. 실제 데이터 이미지로 확인"
   ]
  },
  {
   "cell_type": "code",
   "execution_count": null,
   "id": "9ec32f4b",
   "metadata": {},
   "outputs": [],
   "source": [
    "for_visualization_test_x = test_x_torch.numpy()[:100]\n",
    "for_visualization_test_y = test_y_torch.numpy()[:100]\n",
    "\n",
    "f ,axs = plt.subplots(5,5,figsize=(20,20))\n",
    "plt.subplots_adjust(hspace=1) # subplot 간격 조정\n",
    "for i in range(5):\n",
    "    for j in range(5):\n",
    "        \n",
    "        x_data = for_visualization_test_x[10*i+j]\n",
    "        y_data = for_visualization_test_y[10*i+j]\n",
    "\n",
    "        real_class = str(y_data)\n",
    "        predicted_class = y_test_pred[10*i+j]\n",
    "        predicted_prob = np.max(y_test_prob[10*i+j].detach().numpy()).round(2)\n",
    "            \n",
    "        # x, y 축의 지점 표시를 안함\n",
    "        axs[i,j].set_xticks([])\n",
    "        axs[i,j].set_yticks([])\n",
    "\n",
    "        # subplot의 제목을 i번째 결과에 해당하는 숫자로 설정\n",
    "        axs[i,j].set_title(f\"True class:{real_class}\\nPredicted class:{predicted_class}\\nProbability:{predicted_prob:.2f}\", fontsize = 16)\n",
    "\n",
    "        # 입력으로 사용한 i번째 테스트 이미지를 28x28로 재배열하고\n",
    "        # 이 2차원 배열을 그레이스케일 이미지로 출력\n",
    "        axs[i,j].imshow(x_data.reshape((28, 28)),cmap=plt.cm.gray_r)\n",
    "\n",
    "plt.tight_layout()\n",
    "plt.show()"
   ]
  }
 ],
 "metadata": {
  "kernelspec": {
   "display_name": "Python 3 (ipykernel)",
   "language": "python",
   "name": "python3"
  },
  "language_info": {
   "codemirror_mode": {
    "name": "ipython",
    "version": 3
   },
   "file_extension": ".py",
   "mimetype": "text/x-python",
   "name": "python",
   "nbconvert_exporter": "python",
   "pygments_lexer": "ipython3",
   "version": "3.7.11"
  },
  "toc": {
   "base_numbering": 1,
   "nav_menu": {},
   "number_sections": false,
   "sideBar": true,
   "skip_h1_title": false,
   "title_cell": "Table of Contents",
   "title_sidebar": "Contents",
   "toc_cell": false,
   "toc_position": {
    "height": "calc(100% - 180px)",
    "left": "10px",
    "top": "150px",
    "width": "305.075px"
   },
   "toc_section_display": true,
   "toc_window_display": true
  }
 },
 "nbformat": 4,
 "nbformat_minor": 5
}
