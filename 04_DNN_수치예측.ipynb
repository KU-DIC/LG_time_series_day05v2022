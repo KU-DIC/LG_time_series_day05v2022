{
 "cells": [
  {
   "cell_type": "code",
   "execution_count": null,
   "id": "fb309a23-85f9-4b8b-9024-521f21700286",
   "metadata": {},
   "outputs": [],
   "source": [
    "from IPython.display import display, HTML, Image"
   ]
  },
  {
   "cell_type": "code",
   "execution_count": null,
   "id": "675705b0-da9f-43ad-8672-47b03fc8f465",
   "metadata": {},
   "outputs": [],
   "source": [
    "!git clone https://github.com/KU-DIC/LG_time_series_day05.git #코랩 사용"
   ]
  },
  {
   "cell_type": "markdown",
   "id": "c8144f96-4653-4930-9ce0-621096899b86",
   "metadata": {},
   "source": [
    "# [머신러닝 기반 시계열 분석 2 실습]\n",
    "# ANN\n",
    "## [Deep Neural Networks - Regression(수치 예측)]"
   ]
  },
  {
   "cell_type": "markdown",
   "id": "d83ab85b-f08c-4187-89e3-7c51050f2175",
   "metadata": {},
   "source": [
    "##### jupyter notebook 단축키\n",
    "\n",
    "- ctrl+enter: 셀 실행   \n",
    "- shift+enter: 셀 실행 및 다음 셀 이동   \n",
    "- alt+enter: 셀 실행, 다음 셀 이동, 새로운 셀 생성\n",
    "- a: 상단에 새로운 셀 만들기\n",
    "- b: 하단에 새로운 셀 만들기\n",
    "- dd: 셀 삭제(x: 셀 삭제)\n",
    "- 함수 ( ) 안에서 shift+tab: arguments description. shift+tab+tab은 길게 볼 수 있도록"
   ]
  },
  {
   "cell_type": "markdown",
   "id": "9c81497d",
   "metadata": {
    "tags": []
   },
   "source": [
    "## 1. 모듈 불러오기"
   ]
  },
  {
   "cell_type": "code",
   "execution_count": null,
   "id": "caf5f02b",
   "metadata": {
    "ExecuteTime": {
     "end_time": "2022-01-12T16:44:49.650378Z",
     "start_time": "2022-01-12T16:44:49.642341Z"
    }
   },
   "outputs": [],
   "source": [
    "''' 기본 모듈 및 시각화 모듈 '''\n",
    "import numpy as np\n",
    "import pandas as pd\n",
    "import matplotlib.pyplot as plt\n",
    "\n",
    "''' 데이터 전처리 모듈 '''\n",
    "from sklearn.preprocessing import StandardScaler\n",
    "from sklearn.model_selection import train_test_split\n",
    "\n",
    "'''Neural Network을 위한 딥러닝 모듈'''\n",
    "import torch\n",
    "\n",
    "''' 기타 optional'''\n",
    "import warnings\n",
    "warnings.filterwarnings(\"ignore\", category=RuntimeWarning)"
   ]
  },
  {
   "cell_type": "markdown",
   "id": "82037571-e532-4481-a634-89e42e86491f",
   "metadata": {},
   "source": [
    "## 2. 분석데이터 : bike_train"
   ]
  },
  {
   "cell_type": "markdown",
   "id": "de8379f0-edf0-4678-96d4-b8b7477a9a04",
   "metadata": {},
   "source": [
    "### 데이터 불러오기"
   ]
  },
  {
   "cell_type": "code",
   "execution_count": null,
   "id": "8137584a-843d-4f9b-900d-92cb412fc840",
   "metadata": {},
   "outputs": [],
   "source": [
    "data = pd.read_csv('/content/LG_time_series_day05/data/bike_train.csv')\n",
    "# data = pd.read_csv('./data/bike_train.csv') #로컬"
   ]
  },
  {
   "cell_type": "markdown",
   "id": "14700029-964a-4f3e-87e2-cfaba745e008",
   "metadata": {},
   "source": [
    "## 2.1 데이터 전처리 및 탐색적 데이터 분석"
   ]
  },
  {
   "cell_type": "markdown",
   "id": "e2853a86-73b1-4be9-a807-eb130336faee",
   "metadata": {},
   "source": [
    "### 데이터 확인"
   ]
  },
  {
   "cell_type": "code",
   "execution_count": null,
   "id": "882d7ec4",
   "metadata": {
    "ExecuteTime": {
     "end_time": "2022-01-12T16:20:16.790963Z",
     "start_time": "2022-01-12T16:20:16.746084Z"
    }
   },
   "outputs": [],
   "source": [
    "print('Data shape: {}'.format(data.shape))\n",
    "data.head()"
   ]
  },
  {
   "cell_type": "code",
   "execution_count": null,
   "id": "98c805e0",
   "metadata": {
    "ExecuteTime": {
     "end_time": "2022-01-12T16:20:16.806921Z",
     "start_time": "2022-01-12T16:20:16.792959Z"
    }
   },
   "outputs": [],
   "source": [
    "data.info()"
   ]
  },
  {
   "cell_type": "markdown",
   "id": "c5c0cf06",
   "metadata": {},
   "source": [
    "<li>datatime : 날짜</li>\n",
    "<li>season : 1 = 봄, 2 = 여름, 3 = 가을, 4 = 겨울</li>\n",
    "<li>holiday : 1 = 주말 및 휴일, 0 = 평일</li>\n",
    "<li>workingday: 1 = 주중, 0 = 주말 및 휴일</li>\n",
    "<li>weather : 1 = 맑음, 약간 구름 낀 흐림, 2 = 안개, 안개 + 흐림, 3 = 가벼운 눈, 가벼운 비 + 천둥, 4 = 심한 눈/비, 천둥/번개</li>\n",
    "<li>temp : 온도(섭씨)</li>\n",
    "<li>atem : 체감 온도(섭씨)</li>\n",
    "<li>humidity : 상대 습도</li>\n",
    "<li>windspeed : 풍속</li>\n",
    "<li>casual : 미등록 사용자 대여수</li>\n",
    "<li>registered : 등록된 사용자 대여수</li>\n",
    "<li>count : 대여 횟수(casual + registered) ==> [Target variable]</li>"
   ]
  },
  {
   "cell_type": "markdown",
   "id": "837dbfa4",
   "metadata": {},
   "source": [
    "### 데이터 전처리"
   ]
  },
  {
   "cell_type": "code",
   "execution_count": null,
   "id": "a2320fdc",
   "metadata": {
    "ExecuteTime": {
     "end_time": "2022-01-12T16:20:16.822878Z",
     "start_time": "2022-01-12T16:20:16.808916Z"
    }
   },
   "outputs": [],
   "source": [
    "drop_columns = ['datetime','casual','registered'] # 날짜, 미등록 사용자 대여수, 등록된 사용자 대여수 제거\n",
    "data.drop(drop_columns, axis=1,inplace=True)\n",
    "data.head()"
   ]
  },
  {
   "cell_type": "markdown",
   "id": "95c001f9",
   "metadata": {},
   "source": [
    "- 'datetime' 칼럼은 시간 정보를 포함하고 있지만 여기서는 고려하지 않음\n",
    "\n",
    "- 'casual'과 'registered' 이 두 feature를 더하면 label data인 count이기 때문에, 학습할 때 이를 포함하는 것은 오히려 학습 모델이 overfitting 되도록 하므로 고려하지 않음"
   ]
  },
  {
   "cell_type": "markdown",
   "id": "86c71b42-397a-4e62-800e-0a4e816c5fa8",
   "metadata": {},
   "source": [
    "### 범주형 설명변수에 대한 Dummy 변수 생성"
   ]
  },
  {
   "cell_type": "code",
   "execution_count": null,
   "id": "913ab1f9",
   "metadata": {
    "ExecuteTime": {
     "end_time": "2022-01-12T16:20:16.853796Z",
     "start_time": "2022-01-12T16:20:16.823876Z"
    }
   },
   "outputs": [],
   "source": [
    "data_continuous = data.drop(labels=['season', 'holiday', 'workingday', 'weather'], axis=1) \n",
    "\n",
    "data_season_dummy = pd.get_dummies(data=data['season'], prefix='season', drop_first=True)\n",
    "data_holiday_dummy = pd.get_dummies(data=data['holiday'], prefix='holiday', drop_first=True)\n",
    "data_workingday_dummy = pd.get_dummies(data=data['workingday'], prefix='workingday', drop_first=True)\n",
    "data_weather_dummy = pd.get_dummies(data=data['weather'], prefix='weather', drop_first=True)\n",
    "\n",
    "data_dummied = pd.concat(objs=[data_continuous, data_season_dummy, data_holiday_dummy, data_workingday_dummy, data_weather_dummy], axis=1)\n",
    "\n",
    "data_dummied.head()"
   ]
  },
  {
   "cell_type": "markdown",
   "id": "0b91d9a1",
   "metadata": {},
   "source": [
    "- 'season', 'holiday', 'workingday', 'weather' feature는 모두 category variable이기 때문에,\n",
    "- 범주형 설명변수에 대해 get_dummies를 사용해 더비 변수를 생성하고, 새로운 데이터셋을 생성"
   ]
  },
  {
   "cell_type": "markdown",
   "id": "079bc0a4-7cf0-4846-adef-e5a79456c0eb",
   "metadata": {},
   "source": [
    "### 설명변수(X)와 반응변수(Y) 정의"
   ]
  },
  {
   "cell_type": "code",
   "execution_count": null,
   "id": "580b18c1-5323-42b3-80aa-eaf50cdb4e1e",
   "metadata": {},
   "outputs": [],
   "source": [
    "y = data_dummied['count']\n",
    "x = data_dummied.drop(['count'], axis=1, inplace=False)"
   ]
  },
  {
   "cell_type": "markdown",
   "id": "90122fe5-fcbf-4900-a4fa-383738459d78",
   "metadata": {},
   "source": [
    "### 학습데이터(Training Dataset)와 테스트 데이터(Testing Dataset) 분리"
   ]
  },
  {
   "cell_type": "code",
   "execution_count": null,
   "id": "f2d1db1b-9070-4727-bf2a-f16ead80e082",
   "metadata": {},
   "outputs": [],
   "source": [
    "train_x, test_x, train_y, test_y = train_test_split(x, y, test_size=0.3)"
   ]
  },
  {
   "cell_type": "markdown",
   "id": "1235d119-1643-4ea2-82cb-8e2f74a783dc",
   "metadata": {},
   "source": [
    "### 정규화 : Standardization(표준정규화) with Standard Scaler"
   ]
  },
  {
   "cell_type": "code",
   "execution_count": null,
   "id": "03c01ca6-a97b-434a-858b-dcae47d128a8",
   "metadata": {},
   "outputs": [],
   "source": [
    "x.describe()"
   ]
  },
  {
   "cell_type": "code",
   "execution_count": null,
   "id": "2d140aaf-c9d5-4b78-ae6a-5eaeeda9c9e1",
   "metadata": {},
   "outputs": [],
   "source": [
    "scaler = StandardScaler()\n",
    "scaler.fit(train_x)\n",
    "\n",
    "train_x = scaler.transform(train_x)\n",
    "test_x = scaler.transform(test_x)"
   ]
  },
  {
   "cell_type": "code",
   "execution_count": null,
   "id": "969dd327-94e6-4b25-816c-16ec77126a4a",
   "metadata": {},
   "outputs": [],
   "source": [
    "train_x"
   ]
  },
  {
   "cell_type": "markdown",
   "id": "85c2d7aa-bee0-4cc0-8096-bc59c8ce3a26",
   "metadata": {},
   "source": [
    "### Tensor 구조 활용\n",
    "- pytorch로 학습을 하기 위해서는, data의 구조가 tensor의 형태가 되어야 함\n",
    "- 따라서 Dataframe, Series 구조로 구성된 x, y를 tensor구조로 변환해줘야 함"
   ]
  },
  {
   "cell_type": "code",
   "execution_count": null,
   "id": "4feb801e-1d1f-4657-9459-98987db7b17e",
   "metadata": {},
   "outputs": [],
   "source": [
    "torch.from_numpy(np.array(train_y)).float()"
   ]
  },
  {
   "cell_type": "code",
   "execution_count": null,
   "id": "36b31b0e-e0c7-4fa0-a46c-9aa322b344a8",
   "metadata": {},
   "outputs": [],
   "source": [
    "torch.as_tensor(train_x.astype('float'))"
   ]
  },
  {
   "cell_type": "code",
   "execution_count": null,
   "id": "b84ff3a3",
   "metadata": {
    "ExecuteTime": {
     "end_time": "2022-01-12T16:20:16.930590Z",
     "start_time": "2022-01-12T16:20:16.917625Z"
    }
   },
   "outputs": [],
   "source": [
    "def df_to_tensor(df):\n",
    "    return torch.from_numpy(np.array(df)).float()\n",
    "\n",
    "train_x = df_to_tensor(train_x)\n",
    "test_x = df_to_tensor(test_x)\n",
    "train_y = df_to_tensor(train_y)\n",
    "test_y = df_to_tensor(test_y)\n",
    "\n",
    "print(\"train_x : \", '\\n', train_x, '\\n\\n',\n",
    "      \"test_x : \", '\\n', test_x, '\\n\\n',\n",
    "      \"train_y : \", train_y, '\\n\\n',\n",
    "      \"test_y : \", test_y)"
   ]
  },
  {
   "cell_type": "markdown",
   "id": "aa52f739",
   "metadata": {},
   "source": [
    "## 2.2 PyTorch를 이용한 DNN 구조"
   ]
  },
  {
   "cell_type": "markdown",
   "id": "2d905e12-8be8-4081-8f60-fe553b4fdce8",
   "metadata": {},
   "source": [
    "- nn.Linear: nn.Module의 subclass로 in_features개의 input을 선형변환을 거쳐 out_features개의 output으로 변환\n",
    "- 1개의 input layer, 3개의 hidden layer, 1개의 output layer로 구성되어 총 5개의 layer로 구성된 DNN 모델\n",
    "- 계산의 과정 중간에 쓰이는 activation function으로는 ReLU 활성화 함수에서 발전된 함수인 LeakyReLU 활성화 함수를 사용"
   ]
  },
  {
   "cell_type": "code",
   "execution_count": null,
   "id": "038873ff",
   "metadata": {
    "ExecuteTime": {
     "end_time": "2022-01-12T16:20:16.946547Z",
     "start_time": "2022-01-12T16:20:16.931606Z"
    }
   },
   "outputs": [],
   "source": [
    "class NeuralNet(torch.nn.Module):\n",
    "    def __init__(self, input_size, hidden_size_1, hidden_size_2, hidden_size_3):\n",
    "        super(NeuralNet, self).__init__()\n",
    "        self.input_size = input_size\n",
    "        \n",
    "        self.hidden_size_1 = hidden_size_1\n",
    "        self.hidden_size_2 = hidden_size_2\n",
    "        self.hidden_size_3 = hidden_size_3\n",
    "        \n",
    "        self.linear_1 = torch.nn.Linear(self.input_size, self.hidden_size_1)\n",
    "        self.linear_2 = torch.nn.Linear(self.hidden_size_1, self.hidden_size_2)\n",
    "        self.linear_3 = torch.nn.Linear(self.hidden_size_2, self.hidden_size_3)\n",
    "        self.linear_4 = torch.nn.Linear(self.hidden_size_3, 1)\n",
    "        \n",
    "        self.LeakyReLU = torch.nn.LeakyReLU()\n",
    "    \n",
    "    \n",
    "    def forward(self, input_tensor):\n",
    "        linear1 = self.linear_1(input_tensor)\n",
    "        LeakyReLU1 = self.LeakyReLU(linear1)\n",
    "        linear2 = self.linear_2(LeakyReLU1)\n",
    "        LeakyReLU2 = self.LeakyReLU(linear2)\n",
    "        linear3 = self.linear_3(LeakyReLU2)\n",
    "        LeakyReLU3 = self.LeakyReLU(linear3)\n",
    "        linear4 = self.linear_4(LeakyReLU3)\n",
    "        output = linear4 \n",
    "        #output layer 단계에서는 회귀 값 그대로를 사용해야 하기 때문에, 별다른 활성화함수를 사용하지 않고, Linear 활성화 함수를 사용하거나 아예 사용하지 않음\n",
    "        return output"
   ]
  },
  {
   "cell_type": "markdown",
   "id": "9e9ca9e3",
   "metadata": {},
   "source": [
    "<center><a href=https://machinelearningmastery.com/choose-an-activation-function-for-deep-learning/'> https://machinelearningmastery.com/choose-an-activation-function-for-deep-learning/ </a></center>"
   ]
  },
  {
   "cell_type": "markdown",
   "id": "af3af663-d0ef-4996-a87e-fd61241b5265",
   "metadata": {},
   "source": [
    "### 모델 및 비용함수, Solver 설정"
   ]
  },
  {
   "cell_type": "markdown",
   "id": "3eb54266-8a52-4aa7-a26e-a8a0e190c137",
   "metadata": {},
   "source": [
    "- input layer의 개수는 설명변수의 개수인 12개에서 시작해서, 144, 64, 8로 계산하고 마지막에는 1개의 output을 얻는 과정을 진행한다.\n",
    "- loss function과 optimizer를 결정하는 것은 학습 속도와 성능을 결정짓는 중요한 부분\n",
    "\n",
    "(이 예제에서는 loss function으로 L1Loss함수를 사용하고, optimizer는 AdamOptimizer를 사용)."
   ]
  },
  {
   "cell_type": "code",
   "execution_count": null,
   "id": "15a7b8f7",
   "metadata": {
    "ExecuteTime": {
     "end_time": "2022-01-12T16:20:16.961507Z",
     "start_time": "2022-01-12T16:20:16.948542Z"
    }
   },
   "outputs": [],
   "source": [
    "model = NeuralNet(12, 144, 64, 8)\n",
    "# 비용함수 정의\n",
    "criterion = torch.nn.L1Loss()\n",
    "\n",
    "# 경사하강법의 종류 정의 (adam)\n",
    "solver = torch.optim.Adam(model.parameters(), lr=0.001)"
   ]
  },
  {
   "cell_type": "markdown",
   "id": "4692c88c-9f08-419d-bfe3-b7eb5a8b0558",
   "metadata": {},
   "source": [
    "### DNN Regressor 학습"
   ]
  },
  {
   "cell_type": "markdown",
   "id": "7349dee4",
   "metadata": {},
   "source": [
    "### Train 과정\n",
    "\n",
    "- 모델에 데이터를 통과시켜 예측값(현재 모델의 weights로 prediction)을 계산\n",
    "- 실제 정답과 예측값의 loss를 비교\n",
    "- Gradient를 계산\n",
    "- 이 값을 통해 weights를 업데이트 (backpropagation)"
   ]
  },
  {
   "cell_type": "markdown",
   "id": "368f5146",
   "metadata": {},
   "source": [
    "1. model.train(): 모델을 학습모드로 변경\n",
    "2. solver.zero_grad(): optimizer의 grad를 0으로 설정\n",
    "    PyTorch는 parameter들의 gradient를 계산해줄 때 grad는 계속 누적되도록 되어 있음\n",
    "    따라서 새로운 epoch이 시작될 때, gradient를 다시 계산할 때에는 0으로 세팅해주어야 함\n",
    "3. train_output: 모델에 학습데이터(X_train)을 넣었을 때 예측값\n",
    "4. train_loss: criterion이 L1Loss로 설정되어 있으므로, train_output과 y_train의 평균절대오차(MAE)를 계산\n",
    "4. train_loss.backward(): gradient 계산을 역전파(backpropagation)로 진행\n",
    "5. optimizer.step(): 계산한 gradient를 토대로 parameter를 업데이트"
   ]
  },
  {
   "cell_type": "code",
   "execution_count": null,
   "id": "b5c8fdff",
   "metadata": {
    "ExecuteTime": {
     "end_time": "2022-01-12T16:22:52.586623Z",
     "start_time": "2022-01-12T16:20:16.992424Z"
    }
   },
   "outputs": [],
   "source": [
    "epochs=1000\n",
    "\n",
    "print(\"Start Training !\")\n",
    "print('-'*50)\n",
    "\n",
    "train_loss_total = []\n",
    "\n",
    "for epoch in range(epochs):\n",
    "\n",
    "    model.train()\n",
    "    solver.zero_grad()\n",
    "    train_output = model(train_x)\n",
    "    train_loss = criterion(train_output.squeeze(), train_y)\n",
    "    if epoch % 100 == 0:\n",
    "        print('[%d epoch] Train loss : %.3f' % (epoch+1, train_loss.item()))\n",
    "    train_loss.backward()\n",
    "    solver.step()\n",
    "       \n",
    "    best_model = model.state_dict()\n",
    "    \n",
    "    train_loss_total.append(train_loss.item())"
   ]
  },
  {
   "cell_type": "markdown",
   "id": "fab42adb-1ae1-485b-8505-e4afddc23eec",
   "metadata": {},
   "source": [
    "### 학습 상태 확인 (learning curve)"
   ]
  },
  {
   "cell_type": "code",
   "execution_count": null,
   "id": "d0b3dbf6-d250-4a42-90d9-6c165574a4bc",
   "metadata": {},
   "outputs": [],
   "source": [
    "plt.figure(figsize=(20,10))\n",
    "\n",
    "# 학습 및 검증 로스 변동 관찰하기\n",
    "plt.plot(train_loss_total,label='Train Loss')\n",
    "\n",
    "plt.legend(fontsize=20)\n",
    "plt.title(\"Learning Curve of trained DNN Regressor\", fontsize=18)\n",
    "plt.show()"
   ]
  },
  {
   "cell_type": "markdown",
   "id": "b03b9582-ef1b-434a-9ff6-c6d165d5f712",
   "metadata": {},
   "source": [
    "## 2-3. DNN 모델 성능 평가"
   ]
  },
  {
   "cell_type": "markdown",
   "id": "6711d63e-ba8b-46e5-9411-e60628da3623",
   "metadata": {},
   "source": [
    "### 학습된 DNN Regressor 결과 확인 및 성능 평가 : Training Data"
   ]
  },
  {
   "cell_type": "code",
   "execution_count": null,
   "id": "487039d6-aac3-4ef4-9f00-9cb3d99ea7da",
   "metadata": {},
   "outputs": [],
   "source": [
    "model.eval()\n",
    "test_loss = criterion(torch.squeeze(model(test_x)), test_y)\n",
    "print('After Training, test loss is {}'.format(test_loss.item()))"
   ]
  }
 ],
 "metadata": {
  "kernelspec": {
   "display_name": "env1",
   "language": "python",
   "name": "env1"
  },
  "language_info": {
   "codemirror_mode": {
    "name": "ipython",
    "version": 3
   },
   "file_extension": ".py",
   "mimetype": "text/x-python",
   "name": "python",
   "nbconvert_exporter": "python",
   "pygments_lexer": "ipython3",
   "version": "3.7.11"
  },
  "toc": {
   "base_numbering": 1,
   "nav_menu": {},
   "number_sections": true,
   "sideBar": true,
   "skip_h1_title": false,
   "title_cell": "Table of Contents",
   "title_sidebar": "Contents",
   "toc_cell": false,
   "toc_position": {},
   "toc_section_display": true,
   "toc_window_display": true
  },
  "varInspector": {
   "cols": {
    "lenName": 16,
    "lenType": 16,
    "lenVar": 40
   },
   "kernels_config": {
    "python": {
     "delete_cmd_postfix": "",
     "delete_cmd_prefix": "del ",
     "library": "var_list.py",
     "varRefreshCmd": "print(var_dic_list())"
    },
    "r": {
     "delete_cmd_postfix": ") ",
     "delete_cmd_prefix": "rm(",
     "library": "var_list.r",
     "varRefreshCmd": "cat(var_dic_list()) "
    }
   },
   "types_to_exclude": [
    "module",
    "function",
    "builtin_function_or_method",
    "instance",
    "_Feature"
   ],
   "window_display": false
  }
 },
 "nbformat": 4,
 "nbformat_minor": 5
}
